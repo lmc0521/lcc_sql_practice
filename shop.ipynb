{
 "cells": [
  {
   "cell_type": "markdown",
   "metadata": {},
   "source": [
    "### 安裝mysql套件\n"
   ]
  },
  {
   "cell_type": "code",
   "execution_count": 112,
   "metadata": {},
   "outputs": [],
   "source": [
    "# pip install pymysql"
   ]
  },
  {
   "cell_type": "code",
   "execution_count": 113,
   "metadata": {},
   "outputs": [
    {
     "data": {
      "text/plain": [
       "'1.4.6'"
      ]
     },
     "execution_count": 113,
     "metadata": {},
     "output_type": "execute_result"
    }
   ],
   "source": [
    "import pymysql\n",
    "pymysql.__version__"
   ]
  },
  {
   "cell_type": "markdown",
   "metadata": {},
   "source": [
    "### 連接mysql"
   ]
  },
  {
   "cell_type": "code",
   "execution_count": 155,
   "metadata": {},
   "outputs": [
    {
     "data": {
      "text/plain": [
       "<pymysql.connections.Connection at 0x2169c295908>"
      ]
     },
     "execution_count": 155,
     "metadata": {},
     "output_type": "execute_result"
    }
   ],
   "source": [
    "connect=pymysql.connect(\n",
    "    user='root',\n",
    "    passwd='12345678',\n",
    "    host='127.0.0.1',\n",
    "    database='shop',\n",
    "    port=3306\n",
    ")\n",
    "connect"
   ]
  },
  {
   "cell_type": "code",
   "execution_count": 156,
   "metadata": {},
   "outputs": [
    {
     "data": {
      "text/plain": [
       "<pymysql.cursors.Cursor at 0x2169c295c48>"
      ]
     },
     "execution_count": 156,
     "metadata": {},
     "output_type": "execute_result"
    }
   ],
   "source": [
    "cursor=connect.cursor()\n",
    "cursor"
   ]
  },
  {
   "cell_type": "markdown",
   "metadata": {},
   "source": [
    "### 查詢語法\n",
    "- select * from tablename where ..."
   ]
  },
  {
   "cell_type": "code",
   "execution_count": 130,
   "metadata": {},
   "outputs": [
    {
     "data": {
      "text/plain": [
       "(1, 'aaa@gmail.com', '0123456789', '台北市內湖區內湖路一段')"
      ]
     },
     "execution_count": 130,
     "metadata": {},
     "output_type": "execute_result"
    }
   ],
   "source": [
    "sqlstr=\"select id,email,phone,address from user where id=1;\"\n",
    "\n",
    "cursor.execute(sqlstr)\n",
    "users=cursor.fetchone()\n",
    "users"
   ]
  },
  {
   "cell_type": "markdown",
   "metadata": {},
   "source": [
    "### 註冊功能"
   ]
  },
  {
   "cell_type": "code",
   "execution_count": 117,
   "metadata": {},
   "outputs": [
    {
     "data": {
      "text/plain": [
       "\"insert into user (username,email,password,phone,address)      values ('','','','','');\""
      ]
     },
     "execution_count": 117,
     "metadata": {},
     "output_type": "execute_result"
    }
   ],
   "source": [
    "username=input(\"姓名:\")\n",
    "email=input(\"email:\")\n",
    "password=input(\"passwd\")\n",
    "phone=input(\"phone:\")\n",
    "address=input(\"address:\")\n",
    "\n",
    "sqlstr=f\"insert into user (username,email,password,phone,address)\\\n",
    "      values ('{username}','{email}','{password}','{phone}','{address}');\"\n",
    "\n",
    "sqlstr"
   ]
  },
  {
   "cell_type": "code",
   "execution_count": 118,
   "metadata": {},
   "outputs": [],
   "source": [
    "try:\n",
    "    cursor.execute(sqlstr)\n",
    "    connect.commit()\n",
    "except Exception as e:\n",
    "    print(\"寫入失敗\",e)"
   ]
  },
  {
   "cell_type": "markdown",
   "metadata": {},
   "source": [
    "### 進行登入"
   ]
  },
  {
   "cell_type": "code",
   "execution_count": 131,
   "metadata": {},
   "outputs": [
    {
     "data": {
      "text/plain": [
       "\"select * from user where email='bbb@gmail.com' and password='12345678'\""
      ]
     },
     "execution_count": 131,
     "metadata": {},
     "output_type": "execute_result"
    }
   ],
   "source": [
    "email=input(\"email:\")\n",
    "password=input(\"passwd\")\n",
    "\n",
    "sqlstr=f\"select * from user where email='{email}' and password='{password}'\"\n",
    "sqlstr"
   ]
  },
  {
   "cell_type": "code",
   "execution_count": 132,
   "metadata": {},
   "outputs": [
    {
     "data": {
      "text/plain": [
       "(2,\n",
       " None,\n",
       " '12345678',\n",
       " 'bbb@gmail.com',\n",
       " '0978545714',\n",
       " '',\n",
       " datetime.datetime(2024, 8, 24, 10, 35, 22))"
      ]
     },
     "execution_count": 132,
     "metadata": {},
     "output_type": "execute_result"
    }
   ],
   "source": [
    "cursor.execute(sqlstr)\n",
    "user=cursor.fetchone()\n",
    "user"
   ]
  },
  {
   "cell_type": "code",
   "execution_count": 133,
   "metadata": {},
   "outputs": [
    {
     "name": "stdout",
     "output_type": "stream",
     "text": [
      "登入成功\n"
     ]
    }
   ],
   "source": [
    "if user is not None:\n",
    "    print(\"登入成功\")\n",
    "else:\n",
    "    print(\"登入失敗\")"
   ]
  },
  {
   "cell_type": "markdown",
   "metadata": {},
   "source": [
    "### 建立商品資料表(item)\n",
    "- id            - int(AI)\n",
    "- name          - varchar(100) - unique\n",
    "- price         - float\n",
    "- qty           - int          - default:1\n",
    "- info          -text          - 可以為空"
   ]
  },
  {
   "cell_type": "markdown",
   "metadata": {},
   "source": [
    "### 商品列表"
   ]
  },
  {
   "cell_type": "code",
   "execution_count": 134,
   "metadata": {},
   "outputs": [
    {
     "data": {
      "text/plain": [
       "((1, 'apple', 100.0, 0, 'fresh apple', datetime.date(2024, 8, 24)),\n",
       " (2, 'pen', 20.0, 95, 'good quality pen', datetime.date(2024, 8, 24)),\n",
       " (3, 'banana', 25.5, 9996, None, datetime.date(2024, 8, 24)),\n",
       " (4, 'ball', 500.5, 0, None, datetime.date(2024, 8, 24)))"
      ]
     },
     "execution_count": 134,
     "metadata": {},
     "output_type": "execute_result"
    }
   ],
   "source": [
    "def update_items():\n",
    "    sqlstr=\"select * from item;\"\n",
    "    cursor.execute(sqlstr)\n",
    "    items=cursor.fetchall()\n",
    "    # items\n",
    "    return items\n",
    "\n",
    "update_items()"
   ]
  },
  {
   "cell_type": "code",
   "execution_count": 135,
   "metadata": {},
   "outputs": [
    {
     "data": {
      "text/plain": [
       "4"
      ]
     },
     "execution_count": 135,
     "metadata": {},
     "output_type": "execute_result"
    }
   ],
   "source": [
    "len(items)"
   ]
  },
  {
   "cell_type": "code",
   "execution_count": 137,
   "metadata": {},
   "outputs": [
    {
     "name": "stdout",
     "output_type": "stream",
     "text": [
      "----------------------------------------------------------------------------------------------------\n",
      "1.商品名稱:apple 價格:100.0 數量:0 備註:fresh apple\n",
      "2.商品名稱:pen 價格:20.0 數量:95 備註:good quality pen\n",
      "3.商品名稱:banana 價格:25.5 數量:9996 備註:None\n",
      "4.商品名稱:ball 價格:500.5 數量:0 備註:None\n",
      "----------------------------------------------------------------------------------------------------\n",
      "update item set qty=94 where id=2;\n",
      "===>pen 加入購物車\n",
      "----------------------------------------------------------------------------------------------------\n",
      "1.商品名稱:apple 價格:100.0 數量:0 備註:fresh apple\n",
      "2.商品名稱:pen 價格:20.0 數量:94 備註:good quality pen\n",
      "3.商品名稱:banana 價格:25.5 數量:9996 備註:None\n",
      "4.商品名稱:ball 價格:500.5 數量:0 備註:None\n",
      "----------------------------------------------------------------------------------------------------\n",
      "update item set qty=93 where id=2;\n",
      "===>pen 加入購物車\n",
      "----------------------------------------------------------------------------------------------------\n",
      "1.商品名稱:apple 價格:100.0 數量:0 備註:fresh apple\n",
      "2.商品名稱:pen 價格:20.0 數量:93 備註:good quality pen\n",
      "3.商品名稱:banana 價格:25.5 數量:9996 備註:None\n",
      "4.商品名稱:ball 價格:500.5 數量:0 備註:None\n",
      "----------------------------------------------------------------------------------------------------\n",
      "update item set qty=92 where id=2;\n",
      "===>pen 加入購物車\n",
      "----------------------------------------------------------------------------------------------------\n",
      "1.商品名稱:apple 價格:100.0 數量:0 備註:fresh apple\n",
      "2.商品名稱:pen 價格:20.0 數量:92 備註:good quality pen\n",
      "3.商品名稱:banana 價格:25.5 數量:9996 備註:None\n",
      "4.商品名稱:ball 價格:500.5 數量:0 備註:None\n",
      "----------------------------------------------------------------------------------------------------\n",
      "完成購買\n",
      "[(2, 'pen', 20.0, 95, 'good quality pen', datetime.date(2024, 8, 24)), (2, 'pen', 20.0, 94, 'good quality pen', datetime.date(2024, 8, 24)), (2, 'pen', 20.0, 93, 'good quality pen', datetime.date(2024, 8, 24))]\n"
     ]
    }
   ],
   "source": [
    "cart=[]\n",
    "\n",
    "\n",
    "while True: \n",
    "    #同步更新最新產品\n",
    "    items=update_items()\n",
    "    #選單\n",
    "    print(\"-\"*100)\n",
    "    for i ,item in enumerate(items):\n",
    "        # print(item)\n",
    "        print(f\"{i+1}.商品名稱:{item[1]} 價格:{item[2]} 數量:{item[3]} 備註:{item[4]}\")\n",
    "    print(\"-\"*100)\n",
    "\n",
    "\n",
    "    choice=int(input(\"輸入編號(0:exit):\"))\n",
    "    if choice==0:\n",
    "        break\n",
    "\n",
    "    # 選項<1 || >len(item) 輸入不正確\n",
    "    if choice<1 or choice>len(items):\n",
    "        print(\"輸入錯誤\")\n",
    "        continue\n",
    "\n",
    "    # 紀錄購買商品\n",
    "    buy_item=items[choice-1]\n",
    "    if buy_item[3]<1:\n",
    "        print(f\"****{buy_item[1]} 無庫存\")\n",
    "        continue\n",
    "\n",
    "    #加入購物車\n",
    "    cart.append(buy_item)\n",
    "\n",
    "    #更新商品數量\n",
    "    sqlstr=f\"update item set qty={buy_item[3]-1} where id={buy_item[0]};\"\n",
    "    print(sqlstr)\n",
    "    cursor.execute(sqlstr)\n",
    "    connect.commit()\n",
    "\n",
    "\n",
    "    print(f\"===>{buy_item[1]} 加入購物車\")\n",
    "\n",
    "print(\"完成購買\")\n",
    "print(cart)"
   ]
  },
  {
   "cell_type": "markdown",
   "metadata": {},
   "source": [
    "### 送出訂單\n",
    "- id\n",
    "- user_id\n",
    "- item_id\n",
    "- created_time"
   ]
  },
  {
   "cell_type": "code",
   "execution_count": 138,
   "metadata": {},
   "outputs": [
    {
     "name": "stdout",
     "output_type": "stream",
     "text": [
      "送出訂單\n",
      "送出訂單\n",
      "送出訂單\n"
     ]
    }
   ],
   "source": [
    "# cart\n",
    "for item in cart:\n",
    "    # print(item)\n",
    "    sqlstr=f\"insert into `order` (user_id,item_id) values ({user[0]},{item[0]})\"\n",
    "    # print(sqlstr)\n",
    "    cursor.execute(sqlstr)\n",
    "    connect.commit()\n",
    "    print(\"送出訂單\")"
   ]
  },
  {
   "cell_type": "markdown",
   "metadata": {},
   "source": [
    "### 開始出貨"
   ]
  },
  {
   "cell_type": "code",
   "execution_count": 139,
   "metadata": {},
   "outputs": [
    {
     "data": {
      "text/plain": [
       "((5, 1, 2, datetime.datetime(2024, 8, 24, 14, 58, 32)),\n",
       " (6, 1, 2, datetime.datetime(2024, 8, 24, 14, 58, 32)),\n",
       " (7, 2, 2, datetime.datetime(2024, 8, 24, 15, 25, 7)),\n",
       " (8, 2, 2, datetime.datetime(2024, 8, 24, 15, 25, 7)),\n",
       " (9, 2, 2, datetime.datetime(2024, 8, 24, 15, 25, 7)))"
      ]
     },
     "execution_count": 139,
     "metadata": {},
     "output_type": "execute_result"
    }
   ],
   "source": [
    "# 找出user\n",
    "\n",
    "sqlstr=\"select * from `order`;\"\n",
    "cursor.execute(sqlstr)\n",
    "orders=cursor.fetchall()\n",
    "orders"
   ]
  },
  {
   "cell_type": "code",
   "execution_count": 140,
   "metadata": {},
   "outputs": [
    {
     "data": {
      "text/plain": [
       "1"
      ]
     },
     "execution_count": 140,
     "metadata": {},
     "output_type": "execute_result"
    }
   ],
   "source": [
    "user_id=orders[0][1]\n",
    "user_id"
   ]
  },
  {
   "cell_type": "code",
   "execution_count": 141,
   "metadata": {},
   "outputs": [
    {
     "data": {
      "text/plain": [
       "(1,\n",
       " None,\n",
       " '12345678',\n",
       " 'aaa@gmail.com',\n",
       " '0123456789',\n",
       " '台北市內湖區內湖路一段',\n",
       " datetime.datetime(2024, 8, 24, 10, 10, 56))"
      ]
     },
     "execution_count": 141,
     "metadata": {},
     "output_type": "execute_result"
    }
   ],
   "source": [
    "sqlstr=f\"select * from user where id={user_id};\"\n",
    "cursor.execute(sqlstr)\n",
    "user=cursor.fetchone()\n",
    "user"
   ]
  },
  {
   "cell_type": "code",
   "execution_count": 157,
   "metadata": {},
   "outputs": [
    {
     "data": {
      "text/plain": [
       "((5, 2), (6, 2))"
      ]
     },
     "execution_count": 157,
     "metadata": {},
     "output_type": "execute_result"
    }
   ],
   "source": [
    "sqlstr=f\"select id,item_id from `order` where user_id={user_id};\"\n",
    "cursor.execute(sqlstr)\n",
    "buy_items=cursor.fetchall()\n",
    "buy_items"
   ]
  },
  {
   "cell_type": "code",
   "execution_count": 158,
   "metadata": {},
   "outputs": [
    {
     "name": "stdout",
     "output_type": "stream",
     "text": [
      "收貨人:None\n",
      "email:aaa@gmail.com\n",
      "phone:0123456789\n",
      "address:台北市內湖區內湖路一段\n",
      "==================================================\n",
      "1.pen price:20.0\n",
      "2.pen price:20.0\n",
      "總計:40.0\n",
      "==================================================\n"
     ]
    }
   ],
   "source": [
    "\"\"\"\n",
    "收貨人:\n",
    "email:\n",
    "phone:\n",
    "address:\n",
    "\n",
    "=========================\n",
    "1.pen 20\n",
    "2.pen 20\n",
    "\n",
    "總計:\n",
    "=========================\n",
    "\n",
    "\n",
    "\"\"\"\n",
    "print(f\"收貨人:{user[1]}\")\n",
    "print(f\"email:{user[3]}\")\n",
    "print(f\"phone:{user[4]}\")\n",
    "print(f\"address:{user[5]}\")\n",
    "print(\"=\"*50)\n",
    "\n",
    "total_price=0\n",
    "for i,item_id in enumerate(buy_items):\n",
    "    # print(item_id[0])\n",
    "    sqlstr=f\"select name,price from item where id={item_id[1]};\"\n",
    "    cursor.execute(sqlstr)\n",
    "    item=cursor.fetchone()\n",
    "    # print(item)\n",
    "    total_price+=item[1]\n",
    "    print(f\"{i+1}.{item[0]} price:{item[1]}\")\n",
    "\n",
    "\n",
    "print(f\"總計:{total_price}\")\n",
    "print(\"=\"*50)    "
   ]
  },
  {
   "cell_type": "markdown",
   "metadata": {},
   "source": [
    "### 將以出貨訂單，增加欄位shipped(Bool => true/false)"
   ]
  },
  {
   "cell_type": "code",
   "execution_count": 162,
   "metadata": {},
   "outputs": [
    {
     "name": "stdout",
     "output_type": "stream",
     "text": [
      "5\n",
      "6\n"
     ]
    }
   ],
   "source": [
    "for order_id in buy_items:\n",
    "    print(order_id[0])\n",
    "    sqlstr=f\"update `order` set shipped=true where id={order_id[0]};\"\n",
    "    cursor.execute(sqlstr)\n",
    "    connect.commit()\n"
   ]
  },
  {
   "cell_type": "code",
   "execution_count": 152,
   "metadata": {},
   "outputs": [],
   "source": [
    "connect.close()"
   ]
  }
 ],
 "metadata": {
  "kernelspec": {
   "display_name": "base",
   "language": "python",
   "name": "python3"
  },
  "language_info": {
   "codemirror_mode": {
    "name": "ipython",
    "version": 3
   },
   "file_extension": ".py",
   "mimetype": "text/x-python",
   "name": "python",
   "nbconvert_exporter": "python",
   "pygments_lexer": "ipython3",
   "version": "3.7.6"
  }
 },
 "nbformat": 4,
 "nbformat_minor": 2
}
